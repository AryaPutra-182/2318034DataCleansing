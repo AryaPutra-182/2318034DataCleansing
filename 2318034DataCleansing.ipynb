{
  "cells": [
    {
      "cell_type": "markdown",
      "metadata": {
        "id": "Nxjbm_oQN3Jm"
      },
      "source": [
        "UPLOAD LIBRARY"
      ]
    },
    {
      "cell_type": "code",
      "execution_count": null,
      "metadata": {
        "id": "TiK4qOenM6Oh"
      },
      "outputs": [],
      "source": [
        "import pandas as pd\n",
        "import matplotlib.pyplot as plt\n",
        "import seaborn as sns\n",
        "from google.colab import drive\n"
      ]
    },
    {
      "cell_type": "markdown",
      "metadata": {
        "id": "Kq9qQlQHON_g"
      },
      "source": [
        "MOUNT GOOGLE DRIVE"
      ]
    },
    {
      "cell_type": "code",
      "execution_count": null,
      "metadata": {
        "id": "ixiDFmPcTjMa"
      },
      "outputs": [],
      "source": [
        "sns.set(style=\"whitegrid\", palette=\"muted\", font_scale=1.1)"
      ]
    },
    {
      "cell_type": "code",
      "execution_count": null,
      "metadata": {
        "colab": {
          "base_uri": "https://localhost:8080/"
        },
        "id": "9g0WiT3VOXsQ",
        "outputId": "b492f0c2-f1f2-46b8-d7af-b37b4aabc996"
      },
      "outputs": [
        {
          "output_type": "stream",
          "name": "stdout",
          "text": [
            "Mounted at /content/drive\n"
          ]
        }
      ],
      "source": [
        "drive.mount('/content/drive')"
      ]
    },
    {
      "cell_type": "markdown",
      "metadata": {
        "id": "AnUo3FYFOnTA"
      },
      "source": [
        "LOAD DATASET DARI GOOGLE DRIVE"
      ]
    },
    {
      "cell_type": "code",
      "execution_count": null,
      "metadata": {
        "id": "7pzcshMrOrhX"
      },
      "outputs": [],
      "source": [
        "file_path = '/content/drive/MyDrive/Colab Notebooks/top twitch streamer.xlsx'\n",
        "df = pd.read_excel(file_path, engine='openpyxl')\n",
        "df_before = pd.read_excel(file_path)"
      ]
    },
    {
      "cell_type": "markdown",
      "metadata": {
        "id": "eeE6Ctn8POIX"
      },
      "source": [
        "### MERAPIKAN NAMA KOLOM\n"
      ]
    },
    {
      "cell_type": "code",
      "execution_count": null,
      "metadata": {
        "colab": {
          "base_uri": "https://localhost:8080/"
        },
        "id": "GL193CtZPUOE",
        "outputId": "e33c0ca6-a5bc-4bb9-e16f-d01203f5b8b0"
      },
      "outputs": [
        {
          "output_type": "stream",
          "name": "stdout",
          "text": [
            "Kolom dataset: ['rank', 'name', 'language', 'type', 'most_streamed_game', '2nd_most_streamed_game', 'average_stream_duration', 'followers_gained_per_stream', 'avg_viewers_per_stream', 'avg_games_per_stream', 'total_time_streamed', 'total_followers', 'total_views', 'total_games_streamed', 'active_days_per_week', 'most_active_day', 'day_with_most_followers_gained']\n"
          ]
        }
      ],
      "source": [
        "df.columns = df.columns.str.strip().str.lower().str.replace(\" \", \"_\").str.replace(\"-\", \"_\")\n",
        "print(\"Kolom dataset:\", df.columns.tolist())"
      ]
    },
    {
      "cell_type": "markdown",
      "metadata": {
        "id": "hjTqsI8vPgz3"
      },
      "source": [
        "## MENGECEK KONDISI DATA"
      ]
    },
    {
      "cell_type": "code",
      "execution_count": null,
      "metadata": {
        "colab": {
          "base_uri": "https://localhost:8080/"
        },
        "id": "H5PBL-0DPjLe",
        "outputId": "994b6b56-e948-4e79-d21f-a70297eca132"
      },
      "outputs": [
        {
          "output_type": "stream",
          "name": "stdout",
          "text": [
            "=== Info Dataset ===\n",
            "<class 'pandas.core.frame.DataFrame'>\n",
            "RangeIndex: 999 entries, 0 to 998\n",
            "Data columns (total 17 columns):\n",
            " #   Column                          Non-Null Count  Dtype  \n",
            "---  ------                          --------------  -----  \n",
            " 0   rank                            999 non-null    int64  \n",
            " 1   name                            999 non-null    object \n",
            " 2   language                        999 non-null    object \n",
            " 3   type                            999 non-null    object \n",
            " 4   most_streamed_game              999 non-null    object \n",
            " 5   2nd_most_streamed_game          922 non-null    object \n",
            " 6   average_stream_duration         999 non-null    float64\n",
            " 7   followers_gained_per_stream     999 non-null    int64  \n",
            " 8   avg_viewers_per_stream          999 non-null    int64  \n",
            " 9   avg_games_per_stream            999 non-null    float64\n",
            " 10  total_time_streamed             999 non-null    int64  \n",
            " 11  total_followers                 999 non-null    int64  \n",
            " 12  total_views                     999 non-null    int64  \n",
            " 13  total_games_streamed            999 non-null    int64  \n",
            " 14  active_days_per_week            999 non-null    float64\n",
            " 15  most_active_day                 999 non-null    object \n",
            " 16  day_with_most_followers_gained  999 non-null    object \n",
            "dtypes: float64(3), int64(7), object(7)\n",
            "memory usage: 132.8+ KB\n",
            "None\n",
            "\n",
            "=== 5 Data Teratas ===\n",
            "   rank      name language         type              most_streamed_game  \\\n",
            "0     1  kaicenat  English  personality                   Just Chatting   \n",
            "1     2    jynxzi  English  personality  Tom Clancy's Rainbow Six Siege   \n",
            "2     3   caedrel  English  personality               League of Legends   \n",
            "3     4   caseoh_  English  personality                        NBA 2K23   \n",
            "4     5      ibai  Spanish  personality                   Just Chatting   \n",
            "\n",
            "  2nd_most_streamed_game  average_stream_duration  \\\n",
            "0      I'm Only Sleeping                      7.6   \n",
            "1               NBA 2K20                      5.4   \n",
            "2      I'm Only Sleeping                      6.3   \n",
            "3          Just Chatting                      4.6   \n",
            "4      League of Legends                      4.1   \n",
            "\n",
            "   followers_gained_per_stream  avg_viewers_per_stream  avg_games_per_stream  \\\n",
            "0                        18405                   15852                   2.3   \n",
            "1                         3386                    1145                   1.2   \n",
            "2                          689                   12331                   1.3   \n",
            "3                         7185                       0                   3.6   \n",
            "4                         8289                  190714                   1.5   \n",
            "\n",
            "   total_time_streamed  total_followers  total_views  total_games_streamed  \\\n",
            "0                 4698         10600000      9150000                   194   \n",
            "1                 8407          5760000      1950000                    54   \n",
            "2                 6728           797000     14200000                   111   \n",
            "3                 2554          4220000           53                   385   \n",
            "4                 6865         15600000    359000000                   149   \n",
            "\n",
            "   active_days_per_week most_active_day day_with_most_followers_gained  \n",
            "0                   3.6          Friday                       Saturday  \n",
            "1                   5.6         Tuesday                         Sunday  \n",
            "2                   2.8        Thursday                         Sunday  \n",
            "3                   6.2          Friday                         Monday  \n",
            "4                   4.3       Wednesday                       Saturday  \n"
          ]
        }
      ],
      "source": [
        "print(\"=== Info Dataset ===\")\n",
        "print(df.info())\n",
        "print(\"\\n=== 5 Data Teratas ===\")\n",
        "print(df.head())"
      ]
    },
    {
      "cell_type": "markdown",
      "metadata": {
        "id": "lZ00s6WqPmXV"
      },
      "source": [
        "## CEK MISSING VALUE"
      ]
    },
    {
      "cell_type": "code",
      "execution_count": null,
      "metadata": {
        "colab": {
          "base_uri": "https://localhost:8080/"
        },
        "id": "RbRUwXgHPtNj",
        "outputId": "8ef752f1-df90-48b4-d0dc-e98d9e34f380"
      },
      "outputs": [
        {
          "output_type": "stream",
          "name": "stdout",
          "text": [
            "\n",
            "=== Missing Value ===\n",
            "rank                               0\n",
            "name                               0\n",
            "language                           0\n",
            "type                               0\n",
            "most_streamed_game                 0\n",
            "2nd_most_streamed_game            77\n",
            "average_stream_duration            0\n",
            "followers_gained_per_stream        0\n",
            "avg_viewers_per_stream             0\n",
            "avg_games_per_stream               0\n",
            "total_time_streamed                0\n",
            "total_followers                    0\n",
            "total_views                        0\n",
            "total_games_streamed               0\n",
            "active_days_per_week               0\n",
            "most_active_day                    0\n",
            "day_with_most_followers_gained     0\n",
            "dtype: int64\n"
          ]
        }
      ],
      "source": [
        "print(\"\\n=== Missing Value ===\")\n",
        "print(df.isnull().sum())"
      ]
    },
    {
      "cell_type": "markdown",
      "metadata": {
        "id": "3Y8HpqASWh8T"
      },
      "source": [
        "# **DATA CLEANSING - DEDUPLIKASI DATA**\n",
        "Mengapus data yang duplikat"
      ]
    },
    {
      "cell_type": "code",
      "execution_count": null,
      "metadata": {
        "colab": {
          "base_uri": "https://localhost:8080/"
        },
        "id": "sHd1-rgzWyW5",
        "outputId": "730554a0-aa1c-4f6f-ad92-0b797510d7e4"
      },
      "outputs": [
        {
          "output_type": "stream",
          "name": "stdout",
          "text": [
            "Jumlah data duplikat (tanpa hitung rank): 4\n",
            "\n",
            "Data duplikat:\n",
            "     rank       name language         type most_streamed_game  \\\n",
            "64     66  elmariana  Spanish  personality      Just Chatting   \n",
            "158   160  roger9527  Chinese  personality        Hearthstone   \n",
            "178   180  roger9527  Chinese  personality        Hearthstone   \n",
            "960   962  elmariana  Spanish  personality      Just Chatting   \n",
            "\n",
            "    2nd_most_streamed_game  average_stream_duration  \\\n",
            "64               Minecraft                      3.7   \n",
            "158      League of Legends                      7.5   \n",
            "178      League of Legends                      7.5   \n",
            "960              Minecraft                      3.7   \n",
            "\n",
            "     followers_gained_per_stream  avg_viewers_per_stream  \\\n",
            "64                         11093                   38471   \n",
            "158                         3330                   33004   \n",
            "178                         3330                   33004   \n",
            "960                        11093                   38471   \n",
            "\n",
            "     avg_games_per_stream  total_time_streamed  total_followers  total_views  \\\n",
            "64                    2.5                 3404          9610000     33299999   \n",
            "158                   1.5                 3543           196000     18200000   \n",
            "178                   1.5                 3543           196000     18200000   \n",
            "960                   2.5                 3404          9610000     33299999   \n",
            "\n",
            "     total_games_streamed  active_days_per_week most_active_day  \\\n",
            "64                    328                   4.2       Wednesday   \n",
            "158                    46                   1.2          Friday   \n",
            "178                    46                   1.2          Friday   \n",
            "960                   328                   4.2       Wednesday   \n",
            "\n",
            "    day_with_most_followers_gained  \n",
            "64                         Tuesday  \n",
            "158                         Sunday  \n",
            "178                         Sunday  \n",
            "960                        Tuesday  \n",
            "\n",
            "Jumlah data setelah hapus duplikat: 997\n"
          ]
        }
      ],
      "source": [
        "df_no_rank = df.drop(columns=[\"rank\"], errors=\"ignore\")\n",
        "\n",
        "# Cari data duplikat (abaikan rank)\n",
        "duplicates = df[df_no_rank.duplicated(keep=False)]\n",
        "print(f\"Jumlah data duplikat (tanpa hitung rank): {duplicates.shape[0]}\")\n",
        "print(\"\\nData duplikat:\")\n",
        "print(duplicates.head(15))\n",
        "df_cleaned = df.loc[~df_no_rank.duplicated()]\n",
        "\n",
        "print(f\"\\nJumlah data setelah hapus duplikat: {df_cleaned.shape[0]}\")"
      ]
    },
    {
      "cell_type": "markdown",
      "metadata": {
        "id": "nU5qX9FCQbrW"
      },
      "source": [
        "### STANDARISASI KOLOM TOTAL FOLLOWERS DAN TOTAL VIEWS\n",
        "- Menambahkan kolom baru untuk memudahkan dalam membaca data\n",
        "- Tidak menghilangkan versi numerik agar memudahkan dalam perhitungan data"
      ]
    },
    {
      "cell_type": "code",
      "execution_count": null,
      "metadata": {
        "colab": {
          "base_uri": "https://localhost:8080/"
        },
        "id": "OAxCVarfQiPw",
        "outputId": "634ef827-c549-441e-e53b-edaf2a4ede92"
      },
      "outputs": [
        {
          "output_type": "stream",
          "name": "stdout",
          "text": [
            "Perbandingan sebelum dan sesudah formatting:\n",
            "                name  total_followers f_display  total_views v_display\n",
            "0           kaicenat         10600000    10.60M      9150000     9.15M\n",
            "1             jynxzi          5760000     5.76M      1950000     1.95M\n",
            "2            caedrel           797000      797K     14200000    14.20M\n",
            "3            caseoh_          4220000     4.22M           53        53\n",
            "4               ibai         15600000    15.60M    359000000   359.00M\n",
            "5          auronplay         16300000    16.30M    263000000   263.00M\n",
            "6            zerator          1570000     1.57M    156000000   156.00M\n",
            "7              tarik          3110000     3.11M     93300000    93.30M\n",
            "8          riotgames          6860000     6.86M      1339000     1.34M\n",
            "9         papaplatte          2410000     2.41M     92800000    92.80M\n",
            "10  dota2_paragon_ru           352000      352K            0         -\n",
            "11        aminematue          2590000     2.59M     14900000    14.90M\n",
            "12  kato_junichi0817           939000      939K     38400000    38.40M\n",
            "13         fps_shaka          1420000     1.42M    136000000   136.00M\n",
            "14          illojuan          4090000     4.09M     72000000    72.00M\n"
          ]
        }
      ],
      "source": [
        "# Simpan versi numeric\n",
        "df[\"total_followers_num\"] = pd.to_numeric(df[\"total_followers\"], errors=\"coerce\")\n",
        "df[\"total_views_num\"] = pd.to_numeric(df[\"total_views\"], errors=\"coerce\")\n",
        "\n",
        "# Fungsi format ke K/M\n",
        "def format_km(value):\n",
        "    if pd.isna(value) or value == 0:\n",
        "        return \"-\"\n",
        "    elif value >= 1_000_000:\n",
        "        return f\"{value/1_000_000:.2f}M\"\n",
        "    elif value >= 1_000:\n",
        "        return f\"{value/1_000:.0f}K\"\n",
        "    else:\n",
        "        return str(int(value))\n",
        "\n",
        "df[\"f_display\"] = df[\"total_followers_num\"].apply(format_km)\n",
        "df[\"v_display\"] = df[\"total_views_num\"].apply(format_km)\n",
        "\n",
        "comparison = df[[\n",
        "    \"name\",\n",
        "    \"total_followers\", \"f_display\",\n",
        "    \"total_views\", \"v_display\"\n",
        "]].head(15)  # ambil 15 baris pertama biar ringkas\n",
        "\n",
        "print(\"Perbandingan sebelum dan sesudah formatting:\")\n",
        "print(comparison)"
      ]
    },
    {
      "cell_type": "markdown",
      "metadata": {
        "id": "6d0JXYvQcAqT"
      },
      "source": [
        "## DATA CLEANSING - STANDARISASI KOLOM BAHASA\n",
        "- Mengubah misalnya EN menjadi English"
      ]
    },
    {
      "cell_type": "code",
      "execution_count": null,
      "metadata": {
        "colab": {
          "base_uri": "https://localhost:8080/"
        },
        "id": "uy86In8ucKDb",
        "outputId": "22148d7a-eb15-432a-dff2-3ed03fd9fc7a"
      },
      "outputs": [
        {
          "output_type": "stream",
          "name": "stdout",
          "text": [
            "               name language language_sesudah\n",
            "73           forsen       EN          English\n",
            "89   fissure_cs_eng       EN          English\n",
            "154    davooxeneize       ES          Spanish\n",
            "159   juansguarnizo       ES          Spanish\n",
            "213         hutchmf       EN          English\n",
            "224      brawlhalla       EN          English\n"
          ]
        }
      ],
      "source": [
        "# Mapping bahasa sebelum sesudah\n",
        "lang_map = {\n",
        "    \"EN\": \"English\",\n",
        "    \"ES\": \"Spanish\",\n",
        "    \"FR\": \"French\",\n",
        "    \"DE\": \"German\",\n",
        "    \"ID\": \"Indonesian\",\n",
        "    \"PT\": \"Portuguese\",\n",
        "    \"RU\": \"Russian\",\n",
        "    \"JP\": \"Japanese\",\n",
        "    \"KR\": \"Korean\",\n",
        "}\n",
        "df[\"language_sesudah\"] = df[\"language\"].replace(lang_map)\n",
        "df_changed = df[df[\"language\"] != df[\"language_sesudah\"]]\n",
        "print(df_changed[[\"name\", \"language\", \"language_sesudah\"]].head(15))\n"
      ]
    },
    {
      "cell_type": "markdown",
      "metadata": {
        "id": "XhKcjh7vPxWI"
      },
      "source": [
        "## DATA ENRICHMENT - MENGISI ANGKA 0 YANG ADA PADA KOLOM\n",
        "- Mengisi angka viewers dan followers yang memiliki nilai 0 dengan menggunakan mean\n"
      ]
    },
    {
      "cell_type": "code",
      "execution_count": null,
      "metadata": {
        "colab": {
          "base_uri": "https://localhost:8080/"
        },
        "id": "3s2lwoE6QFtY",
        "outputId": "31510f01-f4e9-4ad7-b20d-586c191683cd"
      },
      "outputs": [
        {
          "name": "stdout",
          "output_type": "stream",
          "text": [
            "=== Data yang berubah (sebelum → sesudah) ===\n",
            "     Sebelum                        Kolom       Sesudah\n",
            "568      0.0  followers_gained_per_stream   3419.186492\n",
            "588      0.0  followers_gained_per_stream   3419.186492\n",
            "664      0.0  followers_gained_per_stream   3419.186492\n",
            "767      0.0  followers_gained_per_stream   3419.186492\n",
            "872      0.0  followers_gained_per_stream   3419.186492\n",
            "3        0.0       avg_viewers_per_stream  21956.910125\n",
            "10       0.0       avg_viewers_per_stream  21956.910125\n",
            "24       0.0       avg_viewers_per_stream  21956.910125\n",
            "31       0.0       avg_viewers_per_stream  21956.910125\n",
            "36       0.0       avg_viewers_per_stream  21956.910125\n"
          ]
        }
      ],
      "source": [
        "import pandas as pd\n",
        "\n",
        "# Pastikan kolom numerik jadi float\n",
        "for col in df.select_dtypes(include=['number']).columns:\n",
        "    df[col] = df[col].astype(float)\n",
        "\n",
        "changed_rows = []\n",
        "\n",
        "for col in df.columns:\n",
        "    if pd.api.types.is_numeric_dtype(df[col]):\n",
        "        if (df[col] == 0).any():   # hanya kolom yang punya nilai 0\n",
        "            mean_val = df[df[col] > 0][col].mean()\n",
        "\n",
        "            # ambil baris sebelum\n",
        "            before = df[df[col] == 0][[col]].copy()\n",
        "            before[\"Kolom\"] = col\n",
        "            before[\"Sesudah\"] = mean_val\n",
        "\n",
        "            # update dataframe\n",
        "            df.loc[df[col] == 0, col] = mean_val\n",
        "\n",
        "            # simpan perubahan\n",
        "            before = before.rename(columns={col: \"Sebelum\"})\n",
        "            changed_rows.append(before)\n",
        "\n",
        "# Gabungkan hasil\n",
        "if changed_rows:\n",
        "    result = pd.concat(changed_rows, axis=0)\n",
        "    print(\"=== Data yang berubah (sebelum → sesudah) ===\")\n",
        "    print(result.head(10))  # tampilkan 10 baris pertama\n",
        "else:\n",
        "    print(\"Tidak ada nilai 0 yang ditemukan.\")\n"
      ]
    },
    {
      "cell_type": "markdown",
      "metadata": {
        "id": "oKKBXYHeM3PE"
      },
      "source": [
        "## DATA ENRICHMENT - MENGISI DATA KOSONG PADA KOLOM 2ND GAMES\n",
        "- Ada beberapa streamer yang hanya memainkan 1 game\n",
        "- Mengisi dengan None"
      ]
    },
    {
      "cell_type": "code",
      "execution_count": null,
      "metadata": {
        "colab": {
          "base_uri": "https://localhost:8080/"
        },
        "id": "1yPvTqQjM_cO",
        "outputId": "2bab6969-ec90-467a-9ecd-0d2d6aec6df6"
      },
      "outputs": [
        {
          "name": "stdout",
          "output_type": "stream",
          "text": [
            "=== Data yang awalnya kosong lalu jadi 'None' ===\n",
            "                  name most_streamed_game 2nd_most_streamed_game\n",
            "10    dota2_paragon_ru             Dota 2                   None\n",
            "18        lolpacifictw  League of Legends                   None\n",
            "19           pgl_dota2             Dota 2                   None\n",
            "31      legendus_shaka   Street Fighter 6                   None\n",
            "46        rocketleague      Rocket League                   None\n",
            "56   valorant_americas           Valorant                   None\n",
            "58          goa7league      Just Chatting                   None\n",
            "89      fissure_cs_eng     Counter-Strike                   None\n",
            "94           esl_dota2             Dota 2                   None\n",
            "109   valorant_pacific           Valorant                   None\n",
            "117           warcraft  World of Warcraft                   None\n",
            "123             eslcsb     Counter-Strike                   None\n",
            "124      valorant_emea           Valorant                   None\n",
            "169           fortnite           Fortnite                   None\n",
            "173     esl_dota2ember             Dota 2                   None\n"
          ]
        }
      ],
      "source": [
        "none_rows = df[df[\"2nd_most_streamed_game\"] == \"None\"][[\n",
        "    \"name\", \"most_streamed_game\", \"2nd_most_streamed_game\"\n",
        "]]\n",
        "\n",
        "print(\"=== Data yang awalnya kosong lalu jadi 'None' ===\")\n",
        "print(none_rows.head(15))  # tampilkan 15 baris pertama\n"
      ]
    },
    {
      "cell_type": "markdown",
      "metadata": {
        "id": "Tht_g0hjQRXp"
      },
      "source": [
        "BERSIHKAN DATA ( HAPUS ROW KOSONG DI KOLOM PENTING )"
      ]
    },
    {
      "cell_type": "code",
      "execution_count": null,
      "metadata": {
        "id": "X_jRY6n1QaW7"
      },
      "outputs": [],
      "source": [
        "df = df.dropna(subset=[\"average_stream_duration\", \"total_time_streamed\"])"
      ]
    },
    {
      "cell_type": "markdown",
      "metadata": {
        "id": "2m9AFBHVQmZO"
      },
      "source": [
        "MENYIMPAN DATA YANG SUDAH DI PROSES"
      ]
    },
    {
      "cell_type": "code",
      "execution_count": null,
      "metadata": {
        "id": "3FH5_CIIrPHZ"
      },
      "outputs": [],
      "source": []
    },
    {
      "cell_type": "code",
      "execution_count": null,
      "metadata": {
        "colab": {
          "base_uri": "https://localhost:8080/"
        },
        "id": "X_UWcHkqQpdA",
        "outputId": "669a9092-3d2f-4936-a8ba-ca2d3322749f"
      },
      "outputs": [
        {
          "name": "stdout",
          "output_type": "stream",
          "text": [
            "\n",
            "✅ Dataset bersih disimpan di: /content/drive/MyDrive/Colab Notebooks/streamer_data_bersih.xlsx\n"
          ]
        }
      ],
      "source": [
        "output_path = \"/content/drive/MyDrive/Colab Notebooks/streamer_data_bersih.xlsx\"\n",
        "\n",
        "# Simpan ke Excel\n",
        "df.to_excel(output_path, index=False)\n",
        "\n",
        "print(\"\\ Dataset bersih disimpan di:\", output_path)\n"
      ]
    },
    {
      "cell_type": "markdown",
      "metadata": {
        "id": "D7BBbGq9Qy93"
      },
      "source": [
        "MENAMPILKAN BEBERAPA DATA YANG SUDAH DI CLEASING"
      ]
    },
    {
      "cell_type": "code",
      "execution_count": null,
      "metadata": {
        "colab": {
          "base_uri": "https://localhost:8080/",
          "height": 485
        },
        "id": "Zt1Kdb7TQ3eF",
        "outputId": "38b7250d-144e-42be-86c4-e2c10eacc1e5"
      },
      "outputs": [
        {
          "name": "stdout",
          "output_type": "stream",
          "text": [
            "\n",
            "Contoh data bersih:\n"
          ]
        },
        {
          "data": {
            "application/vnd.google.colaboratory.intrinsic+json": {
              "type": "dataframe"
            },
            "text/html": [
              "\n",
              "  <div id=\"df-8954fc9f-4ef3-47d6-bfb4-78d21b347ef0\" class=\"colab-df-container\">\n",
              "    <div>\n",
              "<style scoped>\n",
              "    .dataframe tbody tr th:only-of-type {\n",
              "        vertical-align: middle;\n",
              "    }\n",
              "\n",
              "    .dataframe tbody tr th {\n",
              "        vertical-align: top;\n",
              "    }\n",
              "\n",
              "    .dataframe thead th {\n",
              "        text-align: right;\n",
              "    }\n",
              "</style>\n",
              "<table border=\"1\" class=\"dataframe\">\n",
              "  <thead>\n",
              "    <tr style=\"text-align: right;\">\n",
              "      <th></th>\n",
              "      <th>rank</th>\n",
              "      <th>name</th>\n",
              "      <th>language</th>\n",
              "      <th>type</th>\n",
              "      <th>most_streamed_game</th>\n",
              "      <th>2nd_most_streamed_game</th>\n",
              "      <th>average_stream_duration</th>\n",
              "      <th>followers_gained_per_stream</th>\n",
              "      <th>avg_viewers_per_stream</th>\n",
              "      <th>avg_games_per_stream</th>\n",
              "      <th>...</th>\n",
              "      <th>total_views</th>\n",
              "      <th>total_games_streamed</th>\n",
              "      <th>active_days_per_week</th>\n",
              "      <th>most_active_day</th>\n",
              "      <th>day_with_most_followers_gained</th>\n",
              "      <th>total_followers_num</th>\n",
              "      <th>total_views_num</th>\n",
              "      <th>f_display</th>\n",
              "      <th>v_display</th>\n",
              "      <th>language_sesudah</th>\n",
              "    </tr>\n",
              "  </thead>\n",
              "  <tbody>\n",
              "    <tr>\n",
              "      <th>0</th>\n",
              "      <td>1.0</td>\n",
              "      <td>kaicenat</td>\n",
              "      <td>English</td>\n",
              "      <td>personality</td>\n",
              "      <td>Just Chatting</td>\n",
              "      <td>I'm Only Sleeping</td>\n",
              "      <td>7.6</td>\n",
              "      <td>18405.0</td>\n",
              "      <td>15852.000000</td>\n",
              "      <td>2.3</td>\n",
              "      <td>...</td>\n",
              "      <td>9150000.0</td>\n",
              "      <td>194.0</td>\n",
              "      <td>3.6</td>\n",
              "      <td>Friday</td>\n",
              "      <td>Saturday</td>\n",
              "      <td>10600000.0</td>\n",
              "      <td>9150000.0</td>\n",
              "      <td>10.60M</td>\n",
              "      <td>9.15M</td>\n",
              "      <td>English</td>\n",
              "    </tr>\n",
              "    <tr>\n",
              "      <th>1</th>\n",
              "      <td>2.0</td>\n",
              "      <td>jynxzi</td>\n",
              "      <td>English</td>\n",
              "      <td>personality</td>\n",
              "      <td>Tom Clancy's Rainbow Six Siege</td>\n",
              "      <td>NBA 2K20</td>\n",
              "      <td>5.4</td>\n",
              "      <td>3386.0</td>\n",
              "      <td>1145.000000</td>\n",
              "      <td>1.2</td>\n",
              "      <td>...</td>\n",
              "      <td>1950000.0</td>\n",
              "      <td>54.0</td>\n",
              "      <td>5.6</td>\n",
              "      <td>Tuesday</td>\n",
              "      <td>Sunday</td>\n",
              "      <td>5760000.0</td>\n",
              "      <td>1950000.0</td>\n",
              "      <td>5.76M</td>\n",
              "      <td>1.95M</td>\n",
              "      <td>English</td>\n",
              "    </tr>\n",
              "    <tr>\n",
              "      <th>2</th>\n",
              "      <td>3.0</td>\n",
              "      <td>caedrel</td>\n",
              "      <td>English</td>\n",
              "      <td>personality</td>\n",
              "      <td>League of Legends</td>\n",
              "      <td>I'm Only Sleeping</td>\n",
              "      <td>6.3</td>\n",
              "      <td>689.0</td>\n",
              "      <td>12331.000000</td>\n",
              "      <td>1.3</td>\n",
              "      <td>...</td>\n",
              "      <td>14200000.0</td>\n",
              "      <td>111.0</td>\n",
              "      <td>2.8</td>\n",
              "      <td>Thursday</td>\n",
              "      <td>Sunday</td>\n",
              "      <td>797000.0</td>\n",
              "      <td>14200000.0</td>\n",
              "      <td>797K</td>\n",
              "      <td>14.20M</td>\n",
              "      <td>English</td>\n",
              "    </tr>\n",
              "    <tr>\n",
              "      <th>3</th>\n",
              "      <td>4.0</td>\n",
              "      <td>caseoh_</td>\n",
              "      <td>English</td>\n",
              "      <td>personality</td>\n",
              "      <td>NBA 2K23</td>\n",
              "      <td>Just Chatting</td>\n",
              "      <td>4.6</td>\n",
              "      <td>7185.0</td>\n",
              "      <td>21956.910125</td>\n",
              "      <td>3.6</td>\n",
              "      <td>...</td>\n",
              "      <td>53.0</td>\n",
              "      <td>385.0</td>\n",
              "      <td>6.2</td>\n",
              "      <td>Friday</td>\n",
              "      <td>Monday</td>\n",
              "      <td>4220000.0</td>\n",
              "      <td>53.0</td>\n",
              "      <td>4.22M</td>\n",
              "      <td>53</td>\n",
              "      <td>English</td>\n",
              "    </tr>\n",
              "    <tr>\n",
              "      <th>4</th>\n",
              "      <td>5.0</td>\n",
              "      <td>ibai</td>\n",
              "      <td>Spanish</td>\n",
              "      <td>personality</td>\n",
              "      <td>Just Chatting</td>\n",
              "      <td>League of Legends</td>\n",
              "      <td>4.1</td>\n",
              "      <td>8289.0</td>\n",
              "      <td>190714.000000</td>\n",
              "      <td>1.5</td>\n",
              "      <td>...</td>\n",
              "      <td>359000000.0</td>\n",
              "      <td>149.0</td>\n",
              "      <td>4.3</td>\n",
              "      <td>Wednesday</td>\n",
              "      <td>Saturday</td>\n",
              "      <td>15600000.0</td>\n",
              "      <td>359000000.0</td>\n",
              "      <td>15.60M</td>\n",
              "      <td>359.00M</td>\n",
              "      <td>Spanish</td>\n",
              "    </tr>\n",
              "    <tr>\n",
              "      <th>5</th>\n",
              "      <td>6.0</td>\n",
              "      <td>auronplay</td>\n",
              "      <td>Spanish</td>\n",
              "      <td>personality</td>\n",
              "      <td>Minecraft</td>\n",
              "      <td>Just Chatting</td>\n",
              "      <td>3.7</td>\n",
              "      <td>1326.0</td>\n",
              "      <td>213849.000000</td>\n",
              "      <td>1.8</td>\n",
              "      <td>...</td>\n",
              "      <td>263000000.0</td>\n",
              "      <td>169.0</td>\n",
              "      <td>5.0</td>\n",
              "      <td>Wednesday</td>\n",
              "      <td>Sunday</td>\n",
              "      <td>16300000.0</td>\n",
              "      <td>263000000.0</td>\n",
              "      <td>16.30M</td>\n",
              "      <td>263.00M</td>\n",
              "      <td>Spanish</td>\n",
              "    </tr>\n",
              "    <tr>\n",
              "      <th>6</th>\n",
              "      <td>7.0</td>\n",
              "      <td>zerator</td>\n",
              "      <td>French</td>\n",
              "      <td>personality</td>\n",
              "      <td>World of Warcraft</td>\n",
              "      <td>VALORANT</td>\n",
              "      <td>5.1</td>\n",
              "      <td>6670.0</td>\n",
              "      <td>70813.000000</td>\n",
              "      <td>1.6</td>\n",
              "      <td>...</td>\n",
              "      <td>156000000.0</td>\n",
              "      <td>448.0</td>\n",
              "      <td>5.0</td>\n",
              "      <td>Sunday</td>\n",
              "      <td>Sunday</td>\n",
              "      <td>1570000.0</td>\n",
              "      <td>156000000.0</td>\n",
              "      <td>1.57M</td>\n",
              "      <td>156.00M</td>\n",
              "      <td>French</td>\n",
              "    </tr>\n",
              "    <tr>\n",
              "      <th>7</th>\n",
              "      <td>8.0</td>\n",
              "      <td>tarik</td>\n",
              "      <td>English</td>\n",
              "      <td>personality</td>\n",
              "      <td>VALORANT</td>\n",
              "      <td>Counter-Strike</td>\n",
              "      <td>7.6</td>\n",
              "      <td>2013.0</td>\n",
              "      <td>6043.000000</td>\n",
              "      <td>1.3</td>\n",
              "      <td>...</td>\n",
              "      <td>93300000.0</td>\n",
              "      <td>78.0</td>\n",
              "      <td>3.7</td>\n",
              "      <td>Thursday</td>\n",
              "      <td>Sunday</td>\n",
              "      <td>3110000.0</td>\n",
              "      <td>93300000.0</td>\n",
              "      <td>3.11M</td>\n",
              "      <td>93.30M</td>\n",
              "      <td>English</td>\n",
              "    </tr>\n",
              "    <tr>\n",
              "      <th>8</th>\n",
              "      <td>9.0</td>\n",
              "      <td>riotgames</td>\n",
              "      <td>English</td>\n",
              "      <td>esports</td>\n",
              "      <td>League of Legends</td>\n",
              "      <td>League of Legends: Wild Rift</td>\n",
              "      <td>8.5</td>\n",
              "      <td>3434.0</td>\n",
              "      <td>346968.000000</td>\n",
              "      <td>1.0</td>\n",
              "      <td>...</td>\n",
              "      <td>1339000.0</td>\n",
              "      <td>8.0</td>\n",
              "      <td>2.8</td>\n",
              "      <td>Saturday</td>\n",
              "      <td>Sunday</td>\n",
              "      <td>6860000.0</td>\n",
              "      <td>1339000.0</td>\n",
              "      <td>6.86M</td>\n",
              "      <td>1.34M</td>\n",
              "      <td>English</td>\n",
              "    </tr>\n",
              "    <tr>\n",
              "      <th>9</th>\n",
              "      <td>10.0</td>\n",
              "      <td>papaplatte</td>\n",
              "      <td>German</td>\n",
              "      <td>personality</td>\n",
              "      <td>Just Chatting</td>\n",
              "      <td>Minecraft</td>\n",
              "      <td>7.6</td>\n",
              "      <td>1273.0</td>\n",
              "      <td>48758.000000</td>\n",
              "      <td>2.8</td>\n",
              "      <td>...</td>\n",
              "      <td>92800000.0</td>\n",
              "      <td>503.0</td>\n",
              "      <td>4.7</td>\n",
              "      <td>Wednesday</td>\n",
              "      <td>Saturday</td>\n",
              "      <td>2410000.0</td>\n",
              "      <td>92800000.0</td>\n",
              "      <td>2.41M</td>\n",
              "      <td>92.80M</td>\n",
              "      <td>German</td>\n",
              "    </tr>\n",
              "  </tbody>\n",
              "</table>\n",
              "<p>10 rows × 22 columns</p>\n",
              "</div>\n",
              "    <div class=\"colab-df-buttons\">\n",
              "\n",
              "  <div class=\"colab-df-container\">\n",
              "    <button class=\"colab-df-convert\" onclick=\"convertToInteractive('df-8954fc9f-4ef3-47d6-bfb4-78d21b347ef0')\"\n",
              "            title=\"Convert this dataframe to an interactive table.\"\n",
              "            style=\"display:none;\">\n",
              "\n",
              "  <svg xmlns=\"http://www.w3.org/2000/svg\" height=\"24px\" viewBox=\"0 -960 960 960\">\n",
              "    <path d=\"M120-120v-720h720v720H120Zm60-500h600v-160H180v160Zm220 220h160v-160H400v160Zm0 220h160v-160H400v160ZM180-400h160v-160H180v160Zm440 0h160v-160H620v160ZM180-180h160v-160H180v160Zm440 0h160v-160H620v160Z\"/>\n",
              "  </svg>\n",
              "    </button>\n",
              "\n",
              "  <style>\n",
              "    .colab-df-container {\n",
              "      display:flex;\n",
              "      gap: 12px;\n",
              "    }\n",
              "\n",
              "    .colab-df-convert {\n",
              "      background-color: #E8F0FE;\n",
              "      border: none;\n",
              "      border-radius: 50%;\n",
              "      cursor: pointer;\n",
              "      display: none;\n",
              "      fill: #1967D2;\n",
              "      height: 32px;\n",
              "      padding: 0 0 0 0;\n",
              "      width: 32px;\n",
              "    }\n",
              "\n",
              "    .colab-df-convert:hover {\n",
              "      background-color: #E2EBFA;\n",
              "      box-shadow: 0px 1px 2px rgba(60, 64, 67, 0.3), 0px 1px 3px 1px rgba(60, 64, 67, 0.15);\n",
              "      fill: #174EA6;\n",
              "    }\n",
              "\n",
              "    .colab-df-buttons div {\n",
              "      margin-bottom: 4px;\n",
              "    }\n",
              "\n",
              "    [theme=dark] .colab-df-convert {\n",
              "      background-color: #3B4455;\n",
              "      fill: #D2E3FC;\n",
              "    }\n",
              "\n",
              "    [theme=dark] .colab-df-convert:hover {\n",
              "      background-color: #434B5C;\n",
              "      box-shadow: 0px 1px 3px 1px rgba(0, 0, 0, 0.15);\n",
              "      filter: drop-shadow(0px 1px 2px rgba(0, 0, 0, 0.3));\n",
              "      fill: #FFFFFF;\n",
              "    }\n",
              "  </style>\n",
              "\n",
              "    <script>\n",
              "      const buttonEl =\n",
              "        document.querySelector('#df-8954fc9f-4ef3-47d6-bfb4-78d21b347ef0 button.colab-df-convert');\n",
              "      buttonEl.style.display =\n",
              "        google.colab.kernel.accessAllowed ? 'block' : 'none';\n",
              "\n",
              "      async function convertToInteractive(key) {\n",
              "        const element = document.querySelector('#df-8954fc9f-4ef3-47d6-bfb4-78d21b347ef0');\n",
              "        const dataTable =\n",
              "          await google.colab.kernel.invokeFunction('convertToInteractive',\n",
              "                                                    [key], {});\n",
              "        if (!dataTable) return;\n",
              "\n",
              "        const docLinkHtml = 'Like what you see? Visit the ' +\n",
              "          '<a target=\"_blank\" href=https://colab.research.google.com/notebooks/data_table.ipynb>data table notebook</a>'\n",
              "          + ' to learn more about interactive tables.';\n",
              "        element.innerHTML = '';\n",
              "        dataTable['output_type'] = 'display_data';\n",
              "        await google.colab.output.renderOutput(dataTable, element);\n",
              "        const docLink = document.createElement('div');\n",
              "        docLink.innerHTML = docLinkHtml;\n",
              "        element.appendChild(docLink);\n",
              "      }\n",
              "    </script>\n",
              "  </div>\n",
              "\n",
              "\n",
              "    <div id=\"df-0e38e2bf-56e7-41b7-aa08-2d4a97235e50\">\n",
              "      <button class=\"colab-df-quickchart\" onclick=\"quickchart('df-0e38e2bf-56e7-41b7-aa08-2d4a97235e50')\"\n",
              "                title=\"Suggest charts\"\n",
              "                style=\"display:none;\">\n",
              "\n",
              "<svg xmlns=\"http://www.w3.org/2000/svg\" height=\"24px\"viewBox=\"0 0 24 24\"\n",
              "     width=\"24px\">\n",
              "    <g>\n",
              "        <path d=\"M19 3H5c-1.1 0-2 .9-2 2v14c0 1.1.9 2 2 2h14c1.1 0 2-.9 2-2V5c0-1.1-.9-2-2-2zM9 17H7v-7h2v7zm4 0h-2V7h2v10zm4 0h-2v-4h2v4z\"/>\n",
              "    </g>\n",
              "</svg>\n",
              "      </button>\n",
              "\n",
              "<style>\n",
              "  .colab-df-quickchart {\n",
              "      --bg-color: #E8F0FE;\n",
              "      --fill-color: #1967D2;\n",
              "      --hover-bg-color: #E2EBFA;\n",
              "      --hover-fill-color: #174EA6;\n",
              "      --disabled-fill-color: #AAA;\n",
              "      --disabled-bg-color: #DDD;\n",
              "  }\n",
              "\n",
              "  [theme=dark] .colab-df-quickchart {\n",
              "      --bg-color: #3B4455;\n",
              "      --fill-color: #D2E3FC;\n",
              "      --hover-bg-color: #434B5C;\n",
              "      --hover-fill-color: #FFFFFF;\n",
              "      --disabled-bg-color: #3B4455;\n",
              "      --disabled-fill-color: #666;\n",
              "  }\n",
              "\n",
              "  .colab-df-quickchart {\n",
              "    background-color: var(--bg-color);\n",
              "    border: none;\n",
              "    border-radius: 50%;\n",
              "    cursor: pointer;\n",
              "    display: none;\n",
              "    fill: var(--fill-color);\n",
              "    height: 32px;\n",
              "    padding: 0;\n",
              "    width: 32px;\n",
              "  }\n",
              "\n",
              "  .colab-df-quickchart:hover {\n",
              "    background-color: var(--hover-bg-color);\n",
              "    box-shadow: 0 1px 2px rgba(60, 64, 67, 0.3), 0 1px 3px 1px rgba(60, 64, 67, 0.15);\n",
              "    fill: var(--button-hover-fill-color);\n",
              "  }\n",
              "\n",
              "  .colab-df-quickchart-complete:disabled,\n",
              "  .colab-df-quickchart-complete:disabled:hover {\n",
              "    background-color: var(--disabled-bg-color);\n",
              "    fill: var(--disabled-fill-color);\n",
              "    box-shadow: none;\n",
              "  }\n",
              "\n",
              "  .colab-df-spinner {\n",
              "    border: 2px solid var(--fill-color);\n",
              "    border-color: transparent;\n",
              "    border-bottom-color: var(--fill-color);\n",
              "    animation:\n",
              "      spin 1s steps(1) infinite;\n",
              "  }\n",
              "\n",
              "  @keyframes spin {\n",
              "    0% {\n",
              "      border-color: transparent;\n",
              "      border-bottom-color: var(--fill-color);\n",
              "      border-left-color: var(--fill-color);\n",
              "    }\n",
              "    20% {\n",
              "      border-color: transparent;\n",
              "      border-left-color: var(--fill-color);\n",
              "      border-top-color: var(--fill-color);\n",
              "    }\n",
              "    30% {\n",
              "      border-color: transparent;\n",
              "      border-left-color: var(--fill-color);\n",
              "      border-top-color: var(--fill-color);\n",
              "      border-right-color: var(--fill-color);\n",
              "    }\n",
              "    40% {\n",
              "      border-color: transparent;\n",
              "      border-right-color: var(--fill-color);\n",
              "      border-top-color: var(--fill-color);\n",
              "    }\n",
              "    60% {\n",
              "      border-color: transparent;\n",
              "      border-right-color: var(--fill-color);\n",
              "    }\n",
              "    80% {\n",
              "      border-color: transparent;\n",
              "      border-right-color: var(--fill-color);\n",
              "      border-bottom-color: var(--fill-color);\n",
              "    }\n",
              "    90% {\n",
              "      border-color: transparent;\n",
              "      border-bottom-color: var(--fill-color);\n",
              "    }\n",
              "  }\n",
              "</style>\n",
              "\n",
              "      <script>\n",
              "        async function quickchart(key) {\n",
              "          const quickchartButtonEl =\n",
              "            document.querySelector('#' + key + ' button');\n",
              "          quickchartButtonEl.disabled = true;  // To prevent multiple clicks.\n",
              "          quickchartButtonEl.classList.add('colab-df-spinner');\n",
              "          try {\n",
              "            const charts = await google.colab.kernel.invokeFunction(\n",
              "                'suggestCharts', [key], {});\n",
              "          } catch (error) {\n",
              "            console.error('Error during call to suggestCharts:', error);\n",
              "          }\n",
              "          quickchartButtonEl.classList.remove('colab-df-spinner');\n",
              "          quickchartButtonEl.classList.add('colab-df-quickchart-complete');\n",
              "        }\n",
              "        (() => {\n",
              "          let quickchartButtonEl =\n",
              "            document.querySelector('#df-0e38e2bf-56e7-41b7-aa08-2d4a97235e50 button');\n",
              "          quickchartButtonEl.style.display =\n",
              "            google.colab.kernel.accessAllowed ? 'block' : 'none';\n",
              "        })();\n",
              "      </script>\n",
              "    </div>\n",
              "\n",
              "    </div>\n",
              "  </div>\n"
            ],
            "text/plain": [
              "   rank        name language         type              most_streamed_game  \\\n",
              "0   1.0    kaicenat  English  personality                   Just Chatting   \n",
              "1   2.0      jynxzi  English  personality  Tom Clancy's Rainbow Six Siege   \n",
              "2   3.0     caedrel  English  personality               League of Legends   \n",
              "3   4.0     caseoh_  English  personality                        NBA 2K23   \n",
              "4   5.0        ibai  Spanish  personality                   Just Chatting   \n",
              "5   6.0   auronplay  Spanish  personality                       Minecraft   \n",
              "6   7.0     zerator   French  personality               World of Warcraft   \n",
              "7   8.0       tarik  English  personality                        VALORANT   \n",
              "8   9.0   riotgames  English      esports               League of Legends   \n",
              "9  10.0  papaplatte   German  personality                   Just Chatting   \n",
              "\n",
              "         2nd_most_streamed_game  average_stream_duration  \\\n",
              "0             I'm Only Sleeping                      7.6   \n",
              "1                      NBA 2K20                      5.4   \n",
              "2             I'm Only Sleeping                      6.3   \n",
              "3                 Just Chatting                      4.6   \n",
              "4             League of Legends                      4.1   \n",
              "5                 Just Chatting                      3.7   \n",
              "6                      VALORANT                      5.1   \n",
              "7                Counter-Strike                      7.6   \n",
              "8  League of Legends: Wild Rift                      8.5   \n",
              "9                     Minecraft                      7.6   \n",
              "\n",
              "   followers_gained_per_stream  avg_viewers_per_stream  avg_games_per_stream  \\\n",
              "0                      18405.0            15852.000000                   2.3   \n",
              "1                       3386.0             1145.000000                   1.2   \n",
              "2                        689.0            12331.000000                   1.3   \n",
              "3                       7185.0            21956.910125                   3.6   \n",
              "4                       8289.0           190714.000000                   1.5   \n",
              "5                       1326.0           213849.000000                   1.8   \n",
              "6                       6670.0            70813.000000                   1.6   \n",
              "7                       2013.0             6043.000000                   1.3   \n",
              "8                       3434.0           346968.000000                   1.0   \n",
              "9                       1273.0            48758.000000                   2.8   \n",
              "\n",
              "   ...  total_views  total_games_streamed  active_days_per_week  \\\n",
              "0  ...    9150000.0                 194.0                   3.6   \n",
              "1  ...    1950000.0                  54.0                   5.6   \n",
              "2  ...   14200000.0                 111.0                   2.8   \n",
              "3  ...         53.0                 385.0                   6.2   \n",
              "4  ...  359000000.0                 149.0                   4.3   \n",
              "5  ...  263000000.0                 169.0                   5.0   \n",
              "6  ...  156000000.0                 448.0                   5.0   \n",
              "7  ...   93300000.0                  78.0                   3.7   \n",
              "8  ...    1339000.0                   8.0                   2.8   \n",
              "9  ...   92800000.0                 503.0                   4.7   \n",
              "\n",
              "   most_active_day  day_with_most_followers_gained total_followers_num  \\\n",
              "0           Friday                        Saturday          10600000.0   \n",
              "1          Tuesday                          Sunday           5760000.0   \n",
              "2         Thursday                          Sunday            797000.0   \n",
              "3           Friday                          Monday           4220000.0   \n",
              "4        Wednesday                        Saturday          15600000.0   \n",
              "5        Wednesday                          Sunday          16300000.0   \n",
              "6           Sunday                          Sunday           1570000.0   \n",
              "7         Thursday                          Sunday           3110000.0   \n",
              "8         Saturday                          Sunday           6860000.0   \n",
              "9        Wednesday                        Saturday           2410000.0   \n",
              "\n",
              "  total_views_num  f_display  v_display language_sesudah  \n",
              "0       9150000.0     10.60M      9.15M          English  \n",
              "1       1950000.0      5.76M      1.95M          English  \n",
              "2      14200000.0       797K     14.20M          English  \n",
              "3            53.0      4.22M         53          English  \n",
              "4     359000000.0     15.60M    359.00M          Spanish  \n",
              "5     263000000.0     16.30M    263.00M          Spanish  \n",
              "6     156000000.0      1.57M    156.00M           French  \n",
              "7      93300000.0      3.11M     93.30M          English  \n",
              "8       1339000.0      6.86M      1.34M          English  \n",
              "9      92800000.0      2.41M     92.80M           German  \n",
              "\n",
              "[10 rows x 22 columns]"
            ]
          },
          "metadata": {},
          "output_type": "display_data"
        }
      ],
      "source": [
        "print(\"\\nContoh data bersih:\")\n",
        "display(df.head(10))"
      ]
    },
    {
      "cell_type": "markdown",
      "metadata": {
        "id": "BLVMMRKCRYbw"
      },
      "source": [
        "VISUALISASI DATA BAHASA YANG PALING BANYAK DIPAKAI"
      ]
    },
    {
      "cell_type": "code",
      "execution_count": null,
      "metadata": {
        "colab": {
          "base_uri": "https://localhost:8080/",
          "height": 521
        },
        "id": "e2Xvt_fiRXba",
        "outputId": "32ed0374-f154-45ab-91e7-556715bc703e"
      },
      "outputs": [
        {
          "data": {
            "image/png": "[encoded data removed]",
            "text/plain": [
              "<Figure size 600x600 with 1 Axes>"
            ]
          },
          "metadata": {},
          "output_type": "display_data"
        }
      ],
      "source": [
        "plt.figure(figsize=(6,6))\n",
        "df[\"language\"].value_counts().head(5).plot.pie(autopct=\"%1.1f%%\", startangle=90, cmap=\"Set3\")\n",
        "plt.title(\"Distribusi Bahasa Streamer (Top 5)\")\n",
        "plt.ylabel(\"\")\n",
        "plt.show()\n"
      ]
    },
    {
      "cell_type": "markdown",
      "metadata": {
        "id": "OiMtRnIgRjSR"
      },
      "source": [
        "VISUALISASI TOP 10 STREAMER DENGAN FOLLOWERS TERBANYAK"
      ]
    },
    {
      "cell_type": "code",
      "execution_count": null,
      "metadata": {
        "colab": {
          "base_uri": "https://localhost:8080/",
          "height": 664
        },
        "id": "eyaiJ5frRpfG",
        "outputId": "881abd10-b709-49d3-b11b-e17b91b55aa0"
      },
      "outputs": [
        {
          "name": "stderr",
          "output_type": "stream",
          "text": [
            "/tmp/ipython-input-2485084301.py:4: FutureWarning: \n",
            "\n",
            "Passing `palette` without assigning `hue` is deprecated and will be removed in v0.14.0. Assign the `y` variable to `hue` and set `legend=False` for the same effect.\n",
            "\n",
            "  sns.barplot(data=top10_followers,\n"
          ]
        },
        {
          "data": {
            "image/png": "[encoded data removed]",
            "text/plain": [
              "<Figure size 1000x600 with 1 Axes>"
            ]
          },
          "metadata": {},
          "output_type": "display_data"
        }
      ],
      "source": [
        "top10_followers = df.nlargest(10, \"total_followers_num\")\n",
        "\n",
        "plt.figure(figsize=(10,6))\n",
        "sns.barplot(data=top10_followers,\n",
        "            x=\"total_followers_num\",\n",
        "            y=\"name\",\n",
        "            palette=\"viridis\")\n",
        "\n",
        "# Tambah label pakai versi display\n",
        "for i, v in enumerate(top10_followers[\"total_followers_display\"]):\n",
        "    plt.text(top10_followers[\"total_followers_num\"].iloc[i], i, f\" {v}\", va=\"center\")\n",
        "\n",
        "plt.title(\"Top 10 Streamer dengan Followers Terbanyak\", fontsize=14)\n",
        "plt.xlabel(\"Total Followers\")\n",
        "plt.ylabel(\"Streamer\")\n",
        "plt.show()\n"
      ]
    },
    {
      "cell_type": "markdown",
      "metadata": {
        "id": "1FURXCHcSSHx"
      },
      "source": [
        "KATEGORI TYPE STREAMER"
      ]
    },
    {
      "cell_type": "code",
      "execution_count": null,
      "metadata": {
        "colab": {
          "base_uri": "https://localhost:8080/",
          "height": 521
        },
        "id": "wZYmCvjFSQZV",
        "outputId": "1048fdaa-e9c3-4868-ddbb-e2ddd6ec5af3"
      },
      "outputs": [
        {
          "data": {
            "image/png": "[encoded data removed]",
            "text/plain": [
              "<Figure size 600x600 with 1 Axes>"
            ]
          },
          "metadata": {},
          "output_type": "display_data"
        }
      ],
      "source": [
        "plt.figure(figsize=(6,6))\n",
        "df[\"type\"].value_counts().plot.pie(autopct=\"%1.1f%%\", startangle=90, cmap=\"Set2\")\n",
        "plt.title(\"Distribusi Type Streamer\")\n",
        "plt.ylabel(\"\")\n",
        "plt.show()\n"
      ]
    },
    {
      "cell_type": "markdown",
      "metadata": {
        "id": "6MfkeHE_SbPr"
      },
      "source": [
        "GAMES YANG PALING BANYAK DIMAINKAN"
      ]
    },
    {
      "cell_type": "code",
      "execution_count": null,
      "metadata": {
        "colab": {
          "base_uri": "https://localhost:8080/",
          "height": 663
        },
        "id": "ngvn2cR1SYG_",
        "outputId": "1d5cd0bf-96f3-4547-9cf9-e0f02659f290"
      },
      "outputs": [
        {
          "name": "stderr",
          "output_type": "stream",
          "text": [
            "/tmp/ipython-input-864035238.py:2: FutureWarning: \n",
            "\n",
            "Passing `palette` without assigning `hue` is deprecated and will be removed in v0.14.0. Assign the `y` variable to `hue` and set `legend=False` for the same effect.\n",
            "\n",
            "  sns.countplot(data=df, y=\"most_streamed_game\", order=df[\"most_streamed_game\"].value_counts().head(10).index, palette=\"viridis\")\n"
          ]
        },
        {
          "data": {
            "image/png": "[encoded data removed]",
            "text/plain": [
              "<Figure size 1000x600 with 1 Axes>"
            ]
          },
          "metadata": {},
          "output_type": "display_data"
        }
      ],
      "source": [
        "plt.figure(figsize=(10,6))\n",
        "sns.countplot(data=df, y=\"most_streamed_game\", order=df[\"most_streamed_game\"].value_counts().head(10).index, palette=\"viridis\")\n",
        "plt.title(\"Top 10 Most Streamed Games\")\n",
        "plt.xlabel(\"Jumlah Streamer\")\n",
        "plt.ylabel(\"Game\")\n",
        "plt.show()"
      ]
    }
  ],
  "metadata": {
    "colab": {
      "provenance": []
    },
    "kernelspec": {
      "display_name": "Python 3",
      "name": "python3"
    },
    "language_info": {
      "name": "python"
    }
  },
  "nbformat": 4,
  "nbformat_minor": 0
}